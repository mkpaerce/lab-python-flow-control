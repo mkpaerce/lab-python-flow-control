{
 "cells": [
  {
   "cell_type": "markdown",
   "id": "d3bfc191-8885-42ee-b0a0-bbab867c6f9f",
   "metadata": {
    "tags": []
   },
   "source": [
    "# Lab | Flow Control"
   ]
  },
  {
   "cell_type": "markdown",
   "id": "3851fcd1-cf98-4653-9c89-e003b7ec9400",
   "metadata": {},
   "source": [
    "## Exercise: Managing Customer Orders Optimized\n",
    "\n",
    "In the last lab, you were starting an online store that sells various products. To ensure smooth operations, you developed a program that manages customer orders and inventory.\n",
    "\n",
    "You did so without using flow control. Let's go a step further and improve this code.\n",
    "\n",
    "Follow the steps below to complete the exercise:\n",
    "\n",
    "1. Look at your code from the lab data structures, and improve repeated code with loops.\n",
    "\n",
    "2. Instead of asking the user to input the name of three products that a customer wants to order, do the following:\n",
    "    \n",
    "    a. Prompt the user to enter the name of a product that a customer wants to order.\n",
    "    \n",
    "    b. Add the product name to the \"customer_orders\" set.\n",
    "    \n",
    "    c. Ask the user if they want to add another product (yes/no).\n",
    "    \n",
    "    d. Continue the loop until the user does not want to add another product.\n",
    "\n",
    "3. Instead of updating the inventory by subtracting 1 from the quantity of each product, only do it for  the products that were ordered (those in \"customer_orders\")."
   ]
  },
  {
   "cell_type": "code",
   "execution_count": 20,
   "id": "88d22b43-9e22-4527-bc7c-cc236e96caf9",
   "metadata": {},
   "outputs": [
    {
     "name": "stdin",
     "output_type": "stream",
     "text": [
      "Enter the quantity available for t-shirt:  10\n",
      "Enter the quantity available for mug:  20\n",
      "Enter the quantity available for hat:  30\n",
      "Enter the quantity available for book:  40\n",
      "Enter the quantity available for keychain:  50\n"
     ]
    },
    {
     "name": "stdout",
     "output_type": "stream",
     "text": [
      "Final Inventory:\n",
      "{'t-shirt': 10, 'mug': 20, 'hat': 30, 'book': 40, 'keychain': 50}\n",
      "Total product inventory: 150\n"
     ]
    }
   ],
   "source": [
    "#1\n",
    "\n",
    "products = [\"t-shirt\", \"mug\", \"hat\", \"book\", \"keychain\"]\n",
    "\n",
    "inventory = {}\n",
    "\n",
    "for product in products:\n",
    "    quantity_str = input(f\"Enter the quantity available for {product}: \")\n",
    "\n",
    "    quantity = int(quantity_str)\n",
    "    \n",
    "    inventory[product] = quantity\n",
    "\n",
    "print(\"Final Inventory:\")\n",
    "print(inventory)\n",
    "\n",
    "total_quantity = sum(inventory.values())\n",
    "print(f\"Total product inventory: {total_quantity}\")\n"
   ]
  },
  {
   "cell_type": "code",
   "execution_count": 14,
   "id": "613ea6f7-4cd6-477d-b5e5-bb13221a420d",
   "metadata": {},
   "outputs": [
    {
     "name": "stdin",
     "output_type": "stream",
     "text": [
      "Would you like to place an order? (y/n):  y\n"
     ]
    },
    {
     "name": "stdout",
     "output_type": "stream",
     "text": [
      "Please enter one of the following: 'hat', 'mug', 't-shirt', 'keychain'.\n"
     ]
    },
    {
     "name": "stdin",
     "output_type": "stream",
     "text": [
      "Enter an item:  mug\n",
      "Would you like to place an order? (y/n):  y\n"
     ]
    },
    {
     "name": "stdout",
     "output_type": "stream",
     "text": [
      "Please enter one of the following: 'hat', 'mug', 't-shirt', 'keychain'.\n"
     ]
    },
    {
     "name": "stdin",
     "output_type": "stream",
     "text": [
      "Enter an item:  hat\n",
      "Would you like to place an order? (y/n):  y\n"
     ]
    },
    {
     "name": "stdout",
     "output_type": "stream",
     "text": [
      "Please enter one of the following: 'hat', 'mug', 't-shirt', 'keychain'.\n"
     ]
    },
    {
     "name": "stdin",
     "output_type": "stream",
     "text": [
      "Enter an item:  t-shirt\n",
      "Would you like to place an order? (y/n):  y\n"
     ]
    },
    {
     "name": "stdout",
     "output_type": "stream",
     "text": [
      "Please enter one of the following: 'hat', 'mug', 't-shirt', 'keychain'.\n"
     ]
    },
    {
     "name": "stdin",
     "output_type": "stream",
     "text": [
      "Enter an item:  mug\n",
      "Would you like to place an order? (y/n):  n\n"
     ]
    },
    {
     "name": "stdout",
     "output_type": "stream",
     "text": [
      "Final Orders: {'mug': 2, 'hat': 1, 't-shirt': 1}\n"
     ]
    }
   ],
   "source": [
    "#2\n",
    "\n",
    "customer_orders = {}\n",
    "\n",
    "ask = input(\"Would you like to place an order? (y/n): \").lower()\n",
    "\n",
    "while ask == 'y':\n",
    "    print(\"Please enter one of the following: 'hat', 'mug', 't-shirt', 'keychain'.\")\n",
    "    order = input(\"Enter an item: \").lower()\n",
    "    \n",
    "    if order in customer_orders:\n",
    "        customer_orders[order] += 1\n",
    "    else:\n",
    "        customer_orders[order] = 1\n",
    "\n",
    "    ask = input(\"Would you like to place an order? (y/n): \").lower()\n",
    "\n",
    "print(\"Final Orders:\", customer_orders)"
   ]
  },
  {
   "cell_type": "code",
   "execution_count": 30,
   "id": "8fd0b73b-d2d3-4c1d-9832-c8c698b6e74d",
   "metadata": {},
   "outputs": [
    {
     "name": "stdout",
     "output_type": "stream",
     "text": [
      "Updated inventory: {'mug': 18, 'hat': 29, 't-shirt': 9}\n"
     ]
    }
   ],
   "source": [
    "#3\n",
    "for order in customer_orders:\n",
    "    if order in inventory:\n",
    "        inventory[order] = inventory[order] - customer_orders[order]\n",
    "\n",
    "print(f\"Updated inventory: {updated_inventory}\")"
   ]
  }
 ],
 "metadata": {
  "kernelspec": {
   "display_name": "Python [conda env:base] *",
   "language": "python",
   "name": "conda-base-py"
  },
  "language_info": {
   "codemirror_mode": {
    "name": "ipython",
    "version": 3
   },
   "file_extension": ".py",
   "mimetype": "text/x-python",
   "name": "python",
   "nbconvert_exporter": "python",
   "pygments_lexer": "ipython3",
   "version": "3.12.7"
  }
 },
 "nbformat": 4,
 "nbformat_minor": 5
}
